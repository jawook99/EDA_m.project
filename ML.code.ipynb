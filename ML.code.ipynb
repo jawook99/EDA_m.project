{
 "cells": [
  {
   "cell_type": "code",
   "execution_count": null,
   "id": "09d79431",
   "metadata": {},
   "outputs": [],
   "source": [
    "import pandas as pd\n",
    "import numpy as np\n",
    "from sklearn.model_selection import train_test_split\n",
    "from sklearn.preprocessing import StandardScaler\n",
    "from sklearn.linear_model import LinearRegression, LogisticRegression\n",
    "from sklearn.ensemble import RandomForestRegressor, RandomForestClassifier\n",
    "from sklearn.inspection import permutation_importance, PartialDependenceDisplay\n",
    "from sklearn.metrics import mean_squared_error, accuracy_score, classification_report\n",
    "import shap\n",
    "import matplotlib.pyplot as plt\n",
    "import warnings\n",
    "warnings.filterwarnings(\"ignore\")\n",
    "\n",
    "# 1. 데이터 불러오기\n",
    "df = pd.read_excel(\"example.xlsx\")  # 파일은 실행 파일과 같은 폴더에 있어야 함\n",
    "\n",
    "# 2. 통합지표 생성\n",
    "# 필수 컬럼: 사망자수, 중상자수, 경상자수 (수치형이어야 함)\n",
    "df['사망자수'] = pd.to_numeric(df['사망자수'], errors='coerce').fillna(0)\n",
    "df['중상자수'] = pd.to_numeric(df['중상자수'], errors='coerce').fillna(0)\n",
    "df['경상자수'] = pd.to_numeric(df['경상자수'], errors='coerce').fillna(0)\n",
    "\n",
    "df['incident_score'] = 1.0 + 0.7 * (df['중상자수'] > 0) + 0.3 * (df['경상자수'] > 0)\n",
    "df['severity_score'] = df['사망자수'] * 1.0 + df['중상자수'] * 0.7 + df['경상자수'] * 0.3\n",
    "df['total_risk'] = df['incident_score'] * 0.4 + df['severity_score'] * 0.6\n",
    "\n",
    "# 3. feature & target 정의\n",
    "feature_cols = ['사망자수', '중상자수', '경상자수', '부상신고자수']\n",
    "X = df[feature_cols]\n",
    "y_reg = df['total_risk']\n",
    "y_clf = (df['total_risk'] > df['total_risk'].median()).astype(int)  # 이진 분류용 타겟\n",
    "\n",
    "# 4. 데이터 분리\n",
    "X_train, X_test, y_train_reg, y_test_reg = train_test_split(X, y_reg, test_size=0.2, random_state=42)\n",
    "_, _, y_train_clf, y_test_clf = train_test_split(X, y_clf, test_size=0.2, random_state=42)\n",
    "\n",
    "# 5. 정규화 (선형 모델에 필요)\n",
    "scaler = StandardScaler()\n",
    "X_train_scaled = scaler.fit_transform(X_train)\n",
    "X_test_scaled = scaler.transform(X_test)\n",
    "\n",
    "# 6-1. Linear Regression (회귀 + 해석 가능)\n",
    "lr = LinearRegression()\n",
    "lr.fit(X_train_scaled, y_train_reg)\n",
    "y_pred_lr = lr.predict(X_test_scaled)\n",
    "print(\"Linear Regression RMSE:\", mean_squared_error(y_test_reg, y_pred_lr, squared=False))\n",
    "print(\"회귀 계수 (선형모델 해석):\", dict(zip(feature_cols, lr.coef_)))\n",
    "\n",
    "# 6-2. Random Forest Regressor (비선형 관계 포함한 회귀)\n",
    "rf = RandomForestRegressor(random_state=42)\n",
    "rf.fit(X_train, y_train_reg)\n",
    "y_pred_rf = rf.predict(X_test)\n",
    "print(\"Random Forest Regressor RMSE:\", mean_squared_error(y_test_reg, y_pred_rf, squared=False))\n",
    "\n",
    "# 6-3. Permutation Importance (랜덤포레스트 회귀 기준)\n",
    "perm = permutation_importance(rf, X_test, y_test_reg, n_repeats=10, random_state=42)\n",
    "print(\"Permutation Importance (Reg):\")\n",
    "for i in perm.importances_mean.argsort()[::-1]:\n",
    "    print(f\"{feature_cols[i]}: {perm.importances_mean[i]:.4f}\")\n",
    "\n",
    "# 6-4. SHAP 값 시각화 (랜덤포레스트 회귀 기준)\n",
    "explainer = shap.Explainer(rf, X_train)\n",
    "shap_values = explainer(X_test)\n",
    "\n",
    "# 요약 플롯 (전체 변수 중요도)\n",
    "shap.summary_plot(shap_values, X_test, plot_type=\"bar\")\n",
    "\n",
    "# 6-5. Partial Dependence Plot (변수 하나의 영향 시각화)\n",
    "fig, ax = plt.subplots(figsize=(10, 4))\n",
    "PartialDependenceDisplay.from_estimator(rf, X_test, features=[0, 1], feature_names=feature_cols, ax=ax)\n",
    "plt.tight_layout()\n",
    "plt.show()\n",
    "\n",
    "# 7-1. Logistic Regression (이진 분류 + 변수 해석)\n",
    "logr = LogisticRegression()\n",
    "logr.fit(X_train_scaled, y_train_clf)\n",
    "y_pred_logr = logr.predict(X_test_scaled)\n",
    "print(\"Logistic Regression Accuracy:\", accuracy_score(y_test_clf, y_pred_logr))\n",
    "print(\"회귀 계수 (로지스틱):\", dict(zip(feature_cols, logr.coef_[0])))\n",
    "\n",
    "# 7-2. Random Forest Classifier (비선형 분류 모델)\n",
    "rfc = RandomForestClassifier(random_state=42)\n",
    "rfc.fit(X_train, y_train_clf)\n",
    "y_pred_rfc = rfc.predict(X_test)\n",
    "print(\"Random Forest Classifier Accuracy:\", accuracy_score(y_test_clf, y_pred_rfc))\n",
    "print(classification_report(y_test_clf, y_pred_rfc))\n"
   ]
  },
  {
   "cell_type": "markdown",
   "id": "e2200e1d",
   "metadata": {},
   "source": [
    "셀 별 실행"
   ]
  },
  {
   "cell_type": "code",
   "execution_count": null,
   "id": "2152f651",
   "metadata": {},
   "outputs": [],
   "source": [
    "df = pd.read_excel(\"example.xlsx\")  # 현재 코드 파일과 같은 폴더에 있어야 함\n"
   ]
  },
  {
   "cell_type": "code",
   "execution_count": null,
   "id": "88d60954",
   "metadata": {},
   "outputs": [],
   "source": [
    "df['사망자수'] = pd.to_numeric(df['사망자수'], errors='coerce').fillna(0)\n",
    "df['중상자수'] = pd.to_numeric(df['중상자수'], errors='coerce').fillna(0)\n",
    "df['경상자수'] = pd.to_numeric(df['경상자수'], errors='coerce').fillna(0)\n",
    "\n",
    "df['incident_score'] = 1.0 + 0.7 * (df['중상자수'] > 0) + 0.3 * (df['경상자수'] > 0)\n",
    "df['severity_score'] = df['사망자수'] * 1.0 + df['중상자수'] * 0.7 + df['경상자수'] * 0.3\n",
    "df['total_risk'] = df['incident_score'] * 0.4 + df['severity_score'] * 0.6\n"
   ]
  },
  {
   "cell_type": "code",
   "execution_count": null,
   "id": "ecad0271",
   "metadata": {},
   "outputs": [],
   "source": [
    "feature_cols = ['사망자수', '중상자수', '경상자수', '부상신고자수']\n",
    "X = df[feature_cols]\n",
    "y_reg = df['total_risk']\n",
    "y_clf = (df['total_risk'] > df['total_risk'].median()).astype(int)\n"
   ]
  },
  {
   "cell_type": "code",
   "execution_count": null,
   "id": "c5a79889",
   "metadata": {},
   "outputs": [],
   "source": [
    "from sklearn.model_selection import train_test_split\n",
    "from sklearn.preprocessing import StandardScaler\n",
    "\n",
    "X_train, X_test, y_train_reg, y_test_reg = train_test_split(X, y_reg, test_size=0.2, random_state=42)\n",
    "_, _, y_train_clf, y_test_clf = train_test_split(X, y_clf, test_size=0.2, random_state=42)\n",
    "\n",
    "scaler = StandardScaler()\n",
    "X_train_scaled = scaler.fit_transform(X_train)\n",
    "X_test_scaled = scaler.transform(X_test)\n"
   ]
  },
  {
   "cell_type": "code",
   "execution_count": null,
   "id": "a4deb3c4",
   "metadata": {},
   "outputs": [],
   "source": [
    "# Linear Regression\n",
    "from sklearn.linear_model import LinearRegression\n",
    "lr = LinearRegression()\n",
    "lr.fit(X_train_scaled, y_train_reg)\n",
    "print(\"Linear RMSE:\", mean_squared_error(y_test_reg, lr.predict(X_test_scaled), squared=False))\n",
    "print(dict(zip(feature_cols, lr.coef_)))  # 계수 해석\n",
    "\n",
    "# Random Forest Regression\n",
    "from sklearn.ensemble import RandomForestRegressor\n",
    "rf = RandomForestRegressor()\n",
    "rf.fit(X_train, y_train_reg)\n",
    "print(\"RF RMSE:\", mean_squared_error(y_test_reg, rf.predict(X_test)))\n",
    "\n",
    "# Permutation Importance\n",
    "from sklearn.inspection import permutation_importance\n",
    "perm = permutation_importance(rf, X_test, y_test_reg, n_repeats=10, random_state=42)\n",
    "print(\"Permutation Importance:\")\n",
    "for i in perm.importances_mean.argsort()[::-1]:\n",
    "    print(f\"{feature_cols[i]}: {perm.importances_mean[i]:.4f}\")\n"
   ]
  },
  {
   "cell_type": "code",
   "execution_count": null,
   "id": "9c37c642",
   "metadata": {},
   "outputs": [],
   "source": [
    "import shap\n",
    "explainer = shap.Explainer(rf, X_train)\n",
    "shap_values = explainer(X_test)\n",
    "shap.summary_plot(shap_values, X_test, plot_type=\"bar\")  # 전체 변수 중요도 시각화\n"
   ]
  },
  {
   "cell_type": "code",
   "execution_count": null,
   "id": "79ba04d1",
   "metadata": {},
   "outputs": [],
   "source": [
    "from sklearn.inspection import PartialDependenceDisplay\n",
    "PartialDependenceDisplay.from_estimator(rf, X_test, features=[0, 1], feature_names=feature_cols)\n",
    "plt.tight_layout()\n",
    "plt.show()\n"
   ]
  },
  {
   "cell_type": "code",
   "execution_count": null,
   "id": "b42ce3fc",
   "metadata": {},
   "outputs": [],
   "source": [
    "from sklearn.linear_model import LogisticRegression\n",
    "from sklearn.ensemble import RandomForestClassifier\n",
    "from sklearn.metrics import accuracy_score, classification_report\n",
    "\n",
    "# Logistic Regression (설명 가능한 이진 분류)\n",
    "logr = LogisticRegression()\n",
    "logr.fit(X_train_scaled, y_train_clf)\n",
    "print(\"Logistic Accuracy:\", accuracy_score(y_test_clf, logr.predict(X_test_scaled)))\n",
    "print(dict(zip(feature_cols, logr.coef_[0])))\n",
    "\n",
    "# Random Forest Classifier (성능 기반 이진 분류)\n",
    "rfc = RandomForestClassifier()\n",
    "rfc.fit(X_train, y_train_clf)\n",
    "print(\"RFC Accuracy:\", accuracy_score(y_test_clf, rfc.predict(X_test)))\n",
    "print(classification_report(y_test_clf, rfc.predict(X_test)))\n"
   ]
  }
 ],
 "metadata": {
  "language_info": {
   "name": "python"
  }
 },
 "nbformat": 4,
 "nbformat_minor": 5
}
