{
 "cells": [
  {
   "cell_type": "markdown",
   "id": "6d2e509f",
   "metadata": {},
   "source": [
    "실행 부분에서 MYIDX 수정 후 진행 바랍니달"
   ]
  },
  {
   "cell_type": "code",
   "execution_count": 22,
   "id": "5d3d656f",
   "metadata": {},
   "outputs": [],
   "source": [
    "from bs4 import BeautifulSoup\n",
    "from selenium import webdriver\n",
    "from selenium.webdriver.common.by import By\n",
    "from selenium.webdriver.common.keys import Keys\n",
    "from selenium.webdriver.chrome.options import Options\n",
    "from selenium.webdriver.support.ui import Select         # 드롭다운 메뉴 선택\n",
    "\n",
    "import pandas as pd\n",
    "import time\n",
    "import re\n",
    "import os\n",
    "from tqdm import tqdm\n",
    "\n",
    "from datetime import datetime as dt\n",
    "from datetime import timedelta\n",
    "\n",
    "# 팝업창 에러 제어\n",
    "from selenium.common.exceptions import NoAlertPresentException\n",
    "import warnings\n",
    "warnings.filterwarnings('ignore')\n",
    "\n",
    "import matplotlib.pyplot as plt\n",
    "\n",
    "## 창 닫힘 방지 옵션\n",
    "options = Options()\n",
    "options.add_experimental_option(\"detach\", True)\n",
    "\n",
    "url = \"https://taas.koroad.or.kr/gis/mcm/mcl/initMap.do?menuId=GIS_GMP_STS_RSN\"   # 교통사고분석시스템 GIS url\n",
    "\n",
    "driver = webdriver.Chrome(options=options)\n",
    "driver.get(url)\n",
    "\n",
    "html = driver.page_source\n",
    "soup = BeautifulSoup(html, 'html.parser')"
   ]
  },
  {
   "cell_type": "code",
   "execution_count": 23,
   "id": "6acbece1",
   "metadata": {},
   "outputs": [],
   "source": [
    "### 융합 분석으로 이동 ###\n",
    "driver.find_element(By.CSS_SELECTOR, \"#menuRoadNoSearch > a\").click()\n",
    "time.sleep(0.3)"
   ]
  },
  {
   "cell_type": "code",
   "execution_count": 24,
   "id": "efc76f1c",
   "metadata": {},
   "outputs": [
    {
     "data": {
      "text/html": [
       "<div>\n",
       "<style scoped>\n",
       "    .dataframe tbody tr th:only-of-type {\n",
       "        vertical-align: middle;\n",
       "    }\n",
       "\n",
       "    .dataframe tbody tr th {\n",
       "        vertical-align: top;\n",
       "    }\n",
       "\n",
       "    .dataframe thead th {\n",
       "        text-align: right;\n",
       "    }\n",
       "</style>\n",
       "<table border=\"1\" class=\"dataframe\">\n",
       "  <thead>\n",
       "    <tr style=\"text-align: right;\">\n",
       "      <th></th>\n",
       "      <th>구분번호</th>\n",
       "      <th>시군구</th>\n",
       "      <th>도로종류</th>\n",
       "      <th>도로명</th>\n",
       "    </tr>\n",
       "  </thead>\n",
       "  <tbody>\n",
       "  </tbody>\n",
       "</table>\n",
       "</div>"
      ],
      "text/plain": [
       "Empty DataFrame\n",
       "Columns: [구분번호, 시군구, 도로종류, 도로명]\n",
       "Index: []"
      ]
     },
     "execution_count": 24,
     "metadata": {},
     "output_type": "execute_result"
    }
   ],
   "source": [
    "region_df = pd.DataFrame(columns=['구분번호', '시군구', '도로종류', '도로명'])\n",
    "region_df.head()"
   ]
  },
  {
   "cell_type": "code",
   "execution_count": 25,
   "id": "d1a875fb",
   "metadata": {},
   "outputs": [],
   "source": [
    "def get_data():\n",
    "    numbers = []\n",
    "    regions = []\n",
    "    seen_ids = set()\n",
    "\n",
    "    driver.switch_to.window(driver.window_handles[-1])\n",
    "    viewport = driver.find_element(By.CLASS_NAME, \"slick-viewport\")\n",
    "\n",
    "    previous_count = 0\n",
    "    max_tries = 500  # 무한 루프 방지\n",
    "\n",
    "    for _ in range(max_tries):\n",
    "        # 현재 페이지 소스에서 목록 추출\n",
    "        soup = BeautifulSoup(driver.page_source, 'html.parser')\n",
    "        items = soup.select(\"#accidentInfoListView > div.slick-viewport > div > div\")\n",
    "\n",
    "        for item in items:\n",
    "            try:\n",
    "                number = item.select_one(\".slick-cell.l0.r0\").text.strip()\n",
    "                region = item.select_one(\".slick-cell.l3.r3\").text.strip()\n",
    "\n",
    "                if number not in seen_ids:\n",
    "                    seen_ids.add(number)\n",
    "                    numbers.append(number)\n",
    "                    regions.append(region)\n",
    "            except:\n",
    "                continue\n",
    "\n",
    "        # 스크롤 내려서 다음 항목 렌더링\n",
    "        driver.execute_script(\"arguments[0].scrollTop += 200\", viewport)\n",
    "        time.sleep(0.3)\n",
    "\n",
    "        # 더 이상 늘지 않으면 종료\n",
    "        if len(seen_ids) == previous_count:\n",
    "            break\n",
    "        previous_count = len(seen_ids)\n",
    "\n",
    "    print(f\"총 {len(numbers)}\")\n",
    "\n",
    "    driver.close()\n",
    "    driver.switch_to.window(driver.window_handles[0])\n",
    "    return numbers, regions"
   ]
  },
  {
   "cell_type": "code",
   "execution_count": null,
   "id": "edf52736",
   "metadata": {},
   "outputs": [
    {
     "name": "stderr",
     "output_type": "stream",
     "text": [
      "  0%|          | 0/2 [00:00<?, ?it/s]"
     ]
    },
    {
     "name": "stdout",
     "output_type": "stream",
     "text": [
      "총 2264\n"
     ]
    },
    {
     "name": "stderr",
     "output_type": "stream",
     "text": []
    },
    {
     "name": "stdout",
     "output_type": "stream",
     "text": [
      "총 281\n"
     ]
    },
    {
     "name": "stderr",
     "output_type": "stream",
     "text": []
    },
    {
     "name": "stdout",
     "output_type": "stream",
     "text": [
      "총 398\n"
     ]
    },
    {
     "name": "stderr",
     "output_type": "stream",
     "text": []
    },
    {
     "name": "stdout",
     "output_type": "stream",
     "text": [
      "총 160\n"
     ]
    },
    {
     "name": "stderr",
     "output_type": "stream",
     "text": []
    },
    {
     "name": "stdout",
     "output_type": "stream",
     "text": [
      "총 1053\n"
     ]
    },
    {
     "name": "stderr",
     "output_type": "stream",
     "text": [
      " 11%|█▏        | 8/71 [04:33<35:51, 34.15s/it]\n",
      "  0%|          | 0/2 [04:33<?, ?it/s]\n"
     ]
    },
    {
     "ename": "KeyboardInterrupt",
     "evalue": "",
     "output_type": "error",
     "traceback": [
      "\u001b[1;31m---------------------------------------------------------------------------\u001b[0m",
      "\u001b[1;31mKeyboardInterrupt\u001b[0m                         Traceback (most recent call last)",
      "Cell \u001b[1;32mIn[26], line 68\u001b[0m\n\u001b[0;32m     65\u001b[0m if_result \u001b[38;5;241m=\u001b[39m \u001b[38;5;241m1\u001b[39m\n\u001b[0;32m     67\u001b[0m Select(driver\u001b[38;5;241m.\u001b[39mfind_element(\u001b[38;5;124m'\u001b[39m\u001b[38;5;124mid\u001b[39m\u001b[38;5;124m'\u001b[39m, \u001b[38;5;124m'\u001b[39m\u001b[38;5;124mptsNafCh1RoadName\u001b[39m\u001b[38;5;124m'\u001b[39m))\u001b[38;5;241m.\u001b[39mselect_by_visible_text(name)\n\u001b[1;32m---> 68\u001b[0m time\u001b[38;5;241m.\u001b[39msleep(\u001b[38;5;241m1\u001b[39m)\n\u001b[0;32m     71\u001b[0m \u001b[38;5;66;03m### 전체 지역으로 검색 -> 시도, 시군구 선택 x. 전체가 default ###\u001b[39;00m\n\u001b[0;32m     72\u001b[0m \n\u001b[0;32m     73\u001b[0m \u001b[38;5;66;03m## 검색 버튼 클릭\u001b[39;00m\n\u001b[0;32m     74\u001b[0m search_button \u001b[38;5;241m=\u001b[39m \u001b[38;5;124m\"\u001b[39m\u001b[38;5;124m#roadNumberAccidentFind > div:nth-child(4) > p > a\u001b[39m\u001b[38;5;124m\"\u001b[39m\n",
      "\u001b[1;31mKeyboardInterrupt\u001b[0m: "
     ]
    }
   ],
   "source": [
    "\"\"\"\n",
    "!!MYIDX 수정!!\n",
    "\n",
    "2014~2016 [0]\n",
    "2017~2019 [1]\n",
    "2020~2022 [2]\n",
    "2023~2024 [3]\n",
    "\"\"\"\n",
    "\n",
    "\n",
    "type_accident = \"#ptsNafCh1AccidentContent > li > input[type=checkbox]\"\n",
    "checkboxs = driver.find_elements(By.CSS_SELECTOR, type_accident)\n",
    "\n",
    "# 체크박스 선택 초기화\n",
    "for checkbox in checkboxs:\n",
    "    if checkbox.is_selected():\n",
    "        checkbox.click()\n",
    "\n",
    "# 사고 전체 선택\n",
    "for i in range(4):\n",
    "    driver.find_elements(By.CSS_SELECTOR, type_accident)[i].click()\n",
    "\n",
    "\n",
    "time.sleep(0.1)\n",
    "\n",
    "MYIDX = \"\"\"본인 index 넣기\"\"\"\n",
    "#\"저 위에서 본인 index 맞게..\"\n",
    "\n",
    "soup = BeautifulSoup(driver.page_source, 'html.parser')\n",
    "years = soup.select(\"#ptsNafYearStart > option\")\n",
    "\n",
    "years_idx = [x for x in range(len(years[7:])-1, -1, -3)]\n",
    "start_idx = years_idx[MYIDX]\n",
    "\n",
    "\n",
    "# 시작년도 선택\n",
    "driver.find_element('id', 'ptsNafYearStart').click()\n",
    "start_ = Select(driver.find_element('id', 'ptsNafYearStart'))\n",
    "start_.select_by_index(start_idx)\n",
    "\n",
    "# 종료년도 선택 \n",
    "driver.find_element('id', 'ptsNafYearEnd').click()\n",
    "end_ = Select(driver.find_element('id', 'ptsNafYearEnd'))\n",
    "end_.select_by_index(0)   # 첫번째 요소 선택 -> 3년 치 자료 조회.\n",
    "\n",
    "\n",
    "### 도로 종류 ###\n",
    "soup = BeautifulSoup(driver.page_source, 'html.parser')\n",
    "rranks = soup.select('#ptsNafRoadRank > option')\n",
    "rranks = [x.text for x in rranks]\n",
    "\n",
    "\n",
    "for rank in tqdm(rranks):\n",
    "  Select(driver.find_element('id', 'ptsNafRoadRank')).select_by_visible_text(rank)\n",
    "  time.sleep(0.1)\n",
    "\n",
    "  ### 도로명 ###\n",
    "  soup = BeautifulSoup(driver.page_source, 'html.parser')\n",
    "  rnames = soup.select('#ptsNafCh1RoadName > option')\n",
    "  rnames= [x.text for x in rnames]\n",
    "\n",
    "  for name in tqdm(rnames):\n",
    "\n",
    "    # 검색결과 flag\n",
    "    if_result = 1\n",
    "\n",
    "    Select(driver.find_element('id', 'ptsNafCh1RoadName')).select_by_visible_text(name)\n",
    "    time.sleep(1)\n",
    "\n",
    "\n",
    "    ### 전체 지역으로 검색 -> 시도, 시군구 선택 x. 전체가 default ###\n",
    "\n",
    "    ## 검색 버튼 클릭\n",
    "    search_button = \"#roadNumberAccidentFind > div:nth-child(4) > p > a\"\n",
    "    driver.find_elements(By.CSS_SELECTOR, search_button)[0].click()\n",
    "\n",
    "    time.sleep(3.5)\n",
    "\n",
    "    ### 에러 팝업 창 처리 ###\n",
    "    try:\n",
    "      alert = driver.switch_to.alert\n",
    "      alert.accept()\n",
    "      if_result = 0\n",
    "    except NoAlertPresentException:\n",
    "      pass\n",
    "\n",
    "    if if_result:\n",
    "      \n",
    "      ## 목록보기\n",
    "      show_list = \"#roadNumberAccidentFind > div.searc-total > div.btn > p > a\"\n",
    "      driver.find_elements(By.CSS_SELECTOR, show_list)[0].click()\n",
    "\n",
    "      numbers, regions = get_data()\n",
    "      for number, region in zip(numbers, regions):\n",
    "          region_df.loc[len(region_df)] = [number, region, rank, name]"
   ]
  },
  {
   "cell_type": "code",
   "execution_count": 27,
   "id": "9748883c",
   "metadata": {},
   "outputs": [
    {
     "data": {
      "text/plain": [
       "도로명\n",
       "경부고속도로    2264\n",
       "영동고속도로    1053\n",
       "남해고속도로     398\n",
       "경인고속도로     281\n",
       "동해고속도로     160\n",
       "Name: count, dtype: int64"
      ]
     },
     "execution_count": 27,
     "metadata": {},
     "output_type": "execute_result"
    }
   ],
   "source": [
    "region_df['도로명'].value_counts()"
   ]
  },
  {
   "cell_type": "code",
   "execution_count": null,
   "id": "eb122a46",
   "metadata": {},
   "outputs": [],
   "source": [
    "# 파일 저장 - 파일명 수정 안 하셔도 ㄱㅊ\n",
    "my_year = years[years_idx[MYIDX]].text\n",
    "region_df.to_csv(f\"./region_df_{my_year}.csv\")"
   ]
  },
  {
   "cell_type": "code",
   "execution_count": null,
   "id": "d1a3d184",
   "metadata": {},
   "outputs": [],
   "source": []
  }
 ],
 "metadata": {
  "kernelspec": {
   "display_name": "base",
   "language": "python",
   "name": "python3"
  },
  "language_info": {
   "codemirror_mode": {
    "name": "ipython",
    "version": 3
   },
   "file_extension": ".py",
   "mimetype": "text/x-python",
   "name": "python",
   "nbconvert_exporter": "python",
   "pygments_lexer": "ipython3",
   "version": "3.12.7"
  }
 },
 "nbformat": 4,
 "nbformat_minor": 5
}
